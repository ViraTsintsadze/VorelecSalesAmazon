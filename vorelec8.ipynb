{
 "cells": [
  {
   "cell_type": "markdown",
   "id": "f8f70749",
   "metadata": {},
   "source": [
    "# Sales analysis for Vorelec LLC\n",
    "### Business reports from Amazon seller account were analysed. Apache Spark and Pandas were used."
   ]
  },
  {
   "cell_type": "code",
   "execution_count": 1,
   "id": "6a911e96",
   "metadata": {},
   "outputs": [],
   "source": [
    "from pyspark.sql import SparkSession\n",
    "from pyspark.sql.functions import col\n",
    "from pyspark.sql.functions import round, expr\n",
    "from pyspark.sql.types import StructType, StructField, StringType\n",
    "import pandas as pd\n",
    "from datetime import date\n",
    "import numpy as np\n",
    "import seaborn as sn\n",
    "import matplotlib.pyplot as plt"
   ]
  },
  {
   "cell_type": "code",
   "execution_count": 2,
   "id": "e14645a6",
   "metadata": {},
   "outputs": [],
   "source": [
    "spark = (SparkSession.builder.appName(\"Vorelec\").getOrCreate())"
   ]
  },
  {
   "cell_type": "code",
   "execution_count": 3,
   "id": "fa06db5c",
   "metadata": {},
   "outputs": [
    {
     "name": "stdout",
     "output_type": "stream",
     "text": [
      "root\n",
      " |-- Date: string (nullable = true)\n",
      " |-- Ordered Product Sales: string (nullable = true)\n",
      " |-- Units Ordered: integer (nullable = true)\n",
      " |-- Total Order Items: integer (nullable = true)\n",
      " |-- Average Sales per Order Item: string (nullable = true)\n",
      " |-- Average Units per Order Item: double (nullable = true)\n",
      " |-- Average Selling Price: string (nullable = true)\n",
      " |-- Sessions: integer (nullable = true)\n",
      " |-- Order Item Session Percentage: string (nullable = true)\n",
      " |-- Average Offer Count: integer (nullable = true)\n",
      "\n"
     ]
    }
   ],
   "source": [
    "path2 = \"./BusinessReport-2-18-22.csv\"\n",
    "sales_df = spark.read.format(\"csv\").option (\"header\", True).option(\"inferSchema\",True).load(path2)\n",
    "sales_df.printSchema()"
   ]
  },
  {
   "cell_type": "code",
   "execution_count": 4,
   "id": "9df9a678",
   "metadata": {},
   "outputs": [
    {
     "name": "stdout",
     "output_type": "stream",
     "text": [
      "root\n",
      " |-- country: string (nullable = true)\n",
      " |-- start: string (nullable = true)\n",
      " |-- stopped: string (nullable = true)\n",
      " |-- Platform: string (nullable = true)\n",
      " |-- description: string (nullable = true)\n",
      " |-- daily budget: string (nullable = true)\n",
      " |-- result: string (nullable = true)\n",
      " |-- spent: double (nullable = true)\n",
      "\n"
     ]
    }
   ],
   "source": [
    "path3 = \"./AdsLog.csv\"\n",
    "ads_df = spark.read.format(\"csv\").option (\"header\", True).option(\"inferSchema\",True).load(path3)\n",
    "ads_df.printSchema()"
   ]
  },
  {
   "cell_type": "code",
   "execution_count": 5,
   "id": "9f42f333",
   "metadata": {},
   "outputs": [
    {
     "name": "stdout",
     "output_type": "stream",
     "text": [
      "+---------+---------+------+\n",
      "|    start|  stopped| spent|\n",
      "+---------+---------+------+\n",
      "|5/11/2021|6/20/2021|514.01|\n",
      "|5/31/2021| 6/7/2021| 92.97|\n",
      "|5/21/2021|6/20/2021|  95.1|\n",
      "+---------+---------+------+\n",
      "only showing top 3 rows\n",
      "\n"
     ]
    }
   ],
   "source": [
    "ads_df.select(\"start\",\"stopped\" ,\"spent\").show(3)"
   ]
  },
  {
   "cell_type": "code",
   "execution_count": 6,
   "id": "2e7b37b2",
   "metadata": {},
   "outputs": [
    {
     "name": "stdout",
     "output_type": "stream",
     "text": [
      "+------+-------+--------+\n",
      "|  Date|Ordered|Sessions|\n",
      "+------+-------+--------+\n",
      "|2/2/21|      0|       0|\n",
      "|2/3/21|      0|       0|\n",
      "|2/4/21|      0|       0|\n",
      "+------+-------+--------+\n",
      "only showing top 3 rows\n",
      "\n"
     ]
    }
   ],
   "source": [
    "sales_df.select(\"Date\", col(\"Total Order Items\").alias(\"Ordered\"), 'Sessions').show(3)"
   ]
  },
  {
   "cell_type": "code",
   "execution_count": 7,
   "id": "eed2d93c",
   "metadata": {},
   "outputs": [],
   "source": [
    "sales_pd = sales_df.select(\"Date\", col(\"Total Order Items\").alias(\"Ordered\"), 'Sessions').toPandas()"
   ]
  },
  {
   "cell_type": "code",
   "execution_count": 8,
   "id": "f0ca42a6",
   "metadata": {},
   "outputs": [],
   "source": [
    "### to make time uniform for both sales_pd and ads_pd, translating all in one time format - pandas timestamp\n",
    "sales_pd['Date'] = pd.to_datetime(sales_pd['Date'])"
   ]
  },
  {
   "cell_type": "code",
   "execution_count": 9,
   "id": "ffb0ecce",
   "metadata": {},
   "outputs": [],
   "source": [
    "### need to do same or ads_pd, but first change str \"current\" to the max sales date"
   ]
  },
  {
   "cell_type": "code",
   "execution_count": 10,
   "id": "c15be869",
   "metadata": {},
   "outputs": [],
   "source": [
    "ads_pd=ads_df.filter(col(\"country\") == \"USA\").select(\"start\",\"stopped\" ,\"spent\", \"description\").toPandas() ## just USA\n",
    "ads_pd['start']=ads_pd['start'].apply(lambda x: last_date if x=='current'  else x)\n",
    "ads_pd['stopped']=ads_pd['stopped'].apply(lambda x: last_date if x=='current'  else x)"
   ]
  },
  {
   "cell_type": "code",
   "execution_count": 11,
   "id": "be4453a7",
   "metadata": {},
   "outputs": [
    {
     "data": {
      "text/plain": [
       "Timestamp('2022-02-17 00:00:00')"
      ]
     },
     "execution_count": 11,
     "metadata": {},
     "output_type": "execute_result"
    }
   ],
   "source": [
    "last_date = sales_pd[\"Date\"].to_list()[-1]\n",
    "last_date"
   ]
  },
  {
   "cell_type": "code",
   "execution_count": 12,
   "id": "f78bf528",
   "metadata": {},
   "outputs": [
    {
     "data": {
      "text/html": [
       "<div>\n",
       "<style scoped>\n",
       "    .dataframe tbody tr th:only-of-type {\n",
       "        vertical-align: middle;\n",
       "    }\n",
       "\n",
       "    .dataframe tbody tr th {\n",
       "        vertical-align: top;\n",
       "    }\n",
       "\n",
       "    .dataframe thead th {\n",
       "        text-align: right;\n",
       "    }\n",
       "</style>\n",
       "<table border=\"1\" class=\"dataframe\">\n",
       "  <thead>\n",
       "    <tr style=\"text-align: right;\">\n",
       "      <th></th>\n",
       "      <th>start</th>\n",
       "      <th>stopped</th>\n",
       "      <th>spent</th>\n",
       "      <th>description</th>\n",
       "      <th>spent_per_day</th>\n",
       "    </tr>\n",
       "  </thead>\n",
       "  <tbody>\n",
       "    <tr>\n",
       "      <th>0</th>\n",
       "      <td>2021-05-11</td>\n",
       "      <td>2021-06-20</td>\n",
       "      <td>514.01</td>\n",
       "      <td>GettingRidOfRev1 - Ad group1</td>\n",
       "      <td>0.077819</td>\n",
       "    </tr>\n",
       "    <tr>\n",
       "      <th>1</th>\n",
       "      <td>2021-05-31</td>\n",
       "      <td>2021-06-07</td>\n",
       "      <td>92.97</td>\n",
       "      <td>GettingRidOfRev1 - headphones_increasing_bids</td>\n",
       "      <td>0.075293</td>\n",
       "    </tr>\n",
       "    <tr>\n",
       "      <th>2</th>\n",
       "      <td>2021-05-21</td>\n",
       "      <td>2021-06-20</td>\n",
       "      <td>95.10</td>\n",
       "      <td>GettingRidOfRev1 - audio mixer</td>\n",
       "      <td>0.315457</td>\n",
       "    </tr>\n",
       "    <tr>\n",
       "      <th>3</th>\n",
       "      <td>2021-05-15</td>\n",
       "      <td>2021-06-20</td>\n",
       "      <td>388.83</td>\n",
       "      <td>Showing_with_just_mixer - Ad group1</td>\n",
       "      <td>0.092585</td>\n",
       "    </tr>\n",
       "    <tr>\n",
       "      <th>4</th>\n",
       "      <td>2021-11-22</td>\n",
       "      <td>2022-01-14</td>\n",
       "      <td>195.44</td>\n",
       "      <td>claim100 - gadget gift</td>\n",
       "      <td>0.271183</td>\n",
       "    </tr>\n",
       "  </tbody>\n",
       "</table>\n",
       "</div>"
      ],
      "text/plain": [
       "       start    stopped   spent  \\\n",
       "0 2021-05-11 2021-06-20  514.01   \n",
       "1 2021-05-31 2021-06-07   92.97   \n",
       "2 2021-05-21 2021-06-20   95.10   \n",
       "3 2021-05-15 2021-06-20  388.83   \n",
       "4 2021-11-22 2022-01-14  195.44   \n",
       "\n",
       "                                     description  spent_per_day  \n",
       "0                   GettingRidOfRev1 - Ad group1       0.077819  \n",
       "1  GettingRidOfRev1 - headphones_increasing_bids       0.075293  \n",
       "2                 GettingRidOfRev1 - audio mixer       0.315457  \n",
       "3            Showing_with_just_mixer - Ad group1       0.092585  \n",
       "4                         claim100 - gadget gift       0.271183  "
      ]
     },
     "execution_count": 12,
     "metadata": {},
     "output_type": "execute_result"
    }
   ],
   "source": [
    "ads_pd['start'] = pd.to_datetime(ads_pd['start'])\n",
    "ads_pd['stopped'] = pd.to_datetime(ads_pd['stopped'])\n",
    "ads_pd['spent_per_day'] = ((ads_pd['stopped']-ads_pd['start']).dt.days)/ads_pd['spent']\n",
    "ads_pd.head()"
   ]
  },
  {
   "cell_type": "code",
   "execution_count": 13,
   "id": "f8c1e695",
   "metadata": {},
   "outputs": [],
   "source": [
    "### we will plot sales as line (or scutter) \n",
    "### and in the same time scale we will plon lines from date ad started to stopped,\n",
    "### spent_per_day will be the hue, to show how agressively we advertised\n",
    "### each ad is a new line, with x1 = start date index of sales_df, x2 - stopped date index of sales_df,\n",
    "### y = index of ads_pd\n",
    "### so, new pandas DF is to created - "
   ]
  },
  {
   "cell_type": "code",
   "execution_count": 15,
   "id": "7cb88bc5",
   "metadata": {},
   "outputs": [
    {
     "data": {
      "text/html": [
       "<div>\n",
       "<style scoped>\n",
       "    .dataframe tbody tr th:only-of-type {\n",
       "        vertical-align: middle;\n",
       "    }\n",
       "\n",
       "    .dataframe tbody tr th {\n",
       "        vertical-align: top;\n",
       "    }\n",
       "\n",
       "    .dataframe thead th {\n",
       "        text-align: right;\n",
       "    }\n",
       "</style>\n",
       "<table border=\"1\" class=\"dataframe\">\n",
       "  <thead>\n",
       "    <tr style=\"text-align: right;\">\n",
       "      <th></th>\n",
       "      <th>Ordered</th>\n",
       "      <th>GettingRidOfRev1 - Ad group1</th>\n",
       "      <th>GettingRidOfRev1 - headphones_increasing_bids</th>\n",
       "      <th>GettingRidOfRev1 - audio mixer</th>\n",
       "      <th>Showing_with_just_mixer - Ad group1</th>\n",
       "      <th>claim100 - gadget gift</th>\n",
       "      <th>with_just_mixer</th>\n",
       "      <th>audio mixer - audio mixer</th>\n",
       "      <th>Sound_mixer_kw - Ad group 1</th>\n",
       "      <th>Wood bkgr</th>\n",
       "      <th>guy</th>\n",
       "      <th>gift</th>\n",
       "    </tr>\n",
       "  </thead>\n",
       "  <tbody>\n",
       "    <tr>\n",
       "      <th>count</th>\n",
       "      <td>381.000000</td>\n",
       "      <td>39.0</td>\n",
       "      <td>6.0</td>\n",
       "      <td>2.900000e+01</td>\n",
       "      <td>3.500000e+01</td>\n",
       "      <td>5.200000e+01</td>\n",
       "      <td>7.0</td>\n",
       "      <td>6.0</td>\n",
       "      <td>1.100000e+01</td>\n",
       "      <td>6.0</td>\n",
       "      <td>4.0</td>\n",
       "      <td>1.700000e+01</td>\n",
       "    </tr>\n",
       "    <tr>\n",
       "      <th>mean</th>\n",
       "      <td>0.485564</td>\n",
       "      <td>4.0</td>\n",
       "      <td>4.2</td>\n",
       "      <td>4.400000e+00</td>\n",
       "      <td>4.600000e+00</td>\n",
       "      <td>4.800000e+00</td>\n",
       "      <td>5.0</td>\n",
       "      <td>5.2</td>\n",
       "      <td>5.400000e+00</td>\n",
       "      <td>6.0</td>\n",
       "      <td>5.8</td>\n",
       "      <td>6.200000e+00</td>\n",
       "    </tr>\n",
       "    <tr>\n",
       "      <th>std</th>\n",
       "      <td>0.759450</td>\n",
       "      <td>0.0</td>\n",
       "      <td>0.0</td>\n",
       "      <td>1.807799e-15</td>\n",
       "      <td>2.703436e-15</td>\n",
       "      <td>5.381063e-15</td>\n",
       "      <td>0.0</td>\n",
       "      <td>0.0</td>\n",
       "      <td>9.315294e-16</td>\n",
       "      <td>0.0</td>\n",
       "      <td>0.0</td>\n",
       "      <td>1.831027e-15</td>\n",
       "    </tr>\n",
       "    <tr>\n",
       "      <th>min</th>\n",
       "      <td>0.000000</td>\n",
       "      <td>4.0</td>\n",
       "      <td>4.2</td>\n",
       "      <td>4.400000e+00</td>\n",
       "      <td>4.600000e+00</td>\n",
       "      <td>4.800000e+00</td>\n",
       "      <td>5.0</td>\n",
       "      <td>5.2</td>\n",
       "      <td>5.400000e+00</td>\n",
       "      <td>6.0</td>\n",
       "      <td>5.8</td>\n",
       "      <td>6.200000e+00</td>\n",
       "    </tr>\n",
       "    <tr>\n",
       "      <th>25%</th>\n",
       "      <td>0.000000</td>\n",
       "      <td>4.0</td>\n",
       "      <td>4.2</td>\n",
       "      <td>4.400000e+00</td>\n",
       "      <td>4.600000e+00</td>\n",
       "      <td>4.800000e+00</td>\n",
       "      <td>5.0</td>\n",
       "      <td>5.2</td>\n",
       "      <td>5.400000e+00</td>\n",
       "      <td>6.0</td>\n",
       "      <td>5.8</td>\n",
       "      <td>6.200000e+00</td>\n",
       "    </tr>\n",
       "    <tr>\n",
       "      <th>50%</th>\n",
       "      <td>0.000000</td>\n",
       "      <td>4.0</td>\n",
       "      <td>4.2</td>\n",
       "      <td>4.400000e+00</td>\n",
       "      <td>4.600000e+00</td>\n",
       "      <td>4.800000e+00</td>\n",
       "      <td>5.0</td>\n",
       "      <td>5.2</td>\n",
       "      <td>5.400000e+00</td>\n",
       "      <td>6.0</td>\n",
       "      <td>5.8</td>\n",
       "      <td>6.200000e+00</td>\n",
       "    </tr>\n",
       "    <tr>\n",
       "      <th>75%</th>\n",
       "      <td>1.000000</td>\n",
       "      <td>4.0</td>\n",
       "      <td>4.2</td>\n",
       "      <td>4.400000e+00</td>\n",
       "      <td>4.600000e+00</td>\n",
       "      <td>4.800000e+00</td>\n",
       "      <td>5.0</td>\n",
       "      <td>5.2</td>\n",
       "      <td>5.400000e+00</td>\n",
       "      <td>6.0</td>\n",
       "      <td>5.8</td>\n",
       "      <td>6.200000e+00</td>\n",
       "    </tr>\n",
       "    <tr>\n",
       "      <th>max</th>\n",
       "      <td>4.000000</td>\n",
       "      <td>4.0</td>\n",
       "      <td>4.2</td>\n",
       "      <td>4.400000e+00</td>\n",
       "      <td>4.600000e+00</td>\n",
       "      <td>4.800000e+00</td>\n",
       "      <td>5.0</td>\n",
       "      <td>5.2</td>\n",
       "      <td>5.400000e+00</td>\n",
       "      <td>6.0</td>\n",
       "      <td>5.8</td>\n",
       "      <td>6.200000e+00</td>\n",
       "    </tr>\n",
       "  </tbody>\n",
       "</table>\n",
       "</div>"
      ],
      "text/plain": [
       "          Ordered  GettingRidOfRev1 - Ad group1  \\\n",
       "count  381.000000                          39.0   \n",
       "mean     0.485564                           4.0   \n",
       "std      0.759450                           0.0   \n",
       "min      0.000000                           4.0   \n",
       "25%      0.000000                           4.0   \n",
       "50%      0.000000                           4.0   \n",
       "75%      1.000000                           4.0   \n",
       "max      4.000000                           4.0   \n",
       "\n",
       "       GettingRidOfRev1 - headphones_increasing_bids  \\\n",
       "count                                            6.0   \n",
       "mean                                             4.2   \n",
       "std                                              0.0   \n",
       "min                                              4.2   \n",
       "25%                                              4.2   \n",
       "50%                                              4.2   \n",
       "75%                                              4.2   \n",
       "max                                              4.2   \n",
       "\n",
       "       GettingRidOfRev1 - audio mixer  Showing_with_just_mixer - Ad group1  \\\n",
       "count                    2.900000e+01                         3.500000e+01   \n",
       "mean                     4.400000e+00                         4.600000e+00   \n",
       "std                      1.807799e-15                         2.703436e-15   \n",
       "min                      4.400000e+00                         4.600000e+00   \n",
       "25%                      4.400000e+00                         4.600000e+00   \n",
       "50%                      4.400000e+00                         4.600000e+00   \n",
       "75%                      4.400000e+00                         4.600000e+00   \n",
       "max                      4.400000e+00                         4.600000e+00   \n",
       "\n",
       "       claim100 - gadget gift  with_just_mixer  audio mixer - audio mixer  \\\n",
       "count            5.200000e+01              7.0                        6.0   \n",
       "mean             4.800000e+00              5.0                        5.2   \n",
       "std              5.381063e-15              0.0                        0.0   \n",
       "min              4.800000e+00              5.0                        5.2   \n",
       "25%              4.800000e+00              5.0                        5.2   \n",
       "50%              4.800000e+00              5.0                        5.2   \n",
       "75%              4.800000e+00              5.0                        5.2   \n",
       "max              4.800000e+00              5.0                        5.2   \n",
       "\n",
       "       Sound_mixer_kw - Ad group 1  Wood bkgr  guy          gift  \n",
       "count                 1.100000e+01        6.0  4.0  1.700000e+01  \n",
       "mean                  5.400000e+00        6.0  5.8  6.200000e+00  \n",
       "std                   9.315294e-16        0.0  0.0  1.831027e-15  \n",
       "min                   5.400000e+00        6.0  5.8  6.200000e+00  \n",
       "25%                   5.400000e+00        6.0  5.8  6.200000e+00  \n",
       "50%                   5.400000e+00        6.0  5.8  6.200000e+00  \n",
       "75%                   5.400000e+00        6.0  5.8  6.200000e+00  \n",
       "max                   5.400000e+00        6.0  5.8  6.200000e+00  "
      ]
     },
     "execution_count": 15,
     "metadata": {},
     "output_type": "execute_result"
    }
   ],
   "source": [
    "sales_pd_with_campains = sales_pd.drop(columns = [\"Sessions\"]).copy()\n",
    "spend_per_day_campains = sales_pd.drop(columns = [\"Sessions\"]).copy()\n",
    "\n",
    "#to plot \"bar\" lines on top of sales plot, assing y = y+max(sales)\n",
    "max_sales = sales_pd_with_campains[\"Ordered\"].max()\n",
    "num_campains = ads_pd.shape[0]\n",
    "campains = ads_pd[\"description\"].to_list()\n",
    "\n",
    "# put everything in the loop\n",
    "\n",
    "ads_pd_ind = 0\n",
    "for c in campains:\n",
    "    sales_pd_with_campains[c] = np.NaN\n",
    "    spend_per_day_campains[c] = np.NaN\n",
    "    from_ind = sales_pd_with_campains.loc[sales_pd_with_campains['Date'] == ads_pd.loc[ads_pd_ind, 'start']].index[0]\n",
    "    to_ind = sales_pd_with_campains.loc[sales_pd_with_campains['Date'] == ads_pd.loc[ads_pd_ind, 'stopped']].index[0]\n",
    "    sales_pd_with_campains.loc[(sales_pd_with_campains.index > from_ind) \n",
    "                           & (sales_pd_with_campains.index < to_ind), c] = max_sales+ads_pd_ind/5\n",
    "    spend_per_day_campains.loc[(spend_per_day_campains.index > from_ind) \n",
    "                           & (spend_per_day_campains.index < to_ind), c] = ads_pd.loc[ads_pd_ind, 'spent_per_day'] #hue\n",
    "    \n",
    "    ads_pd_ind+=1\n",
    "spend_pd = spend_per_day_campains.drop(columns = [\"Ordered\", 'Date'])\n",
    "spend_pd['Spent, $ per day'] = spend_pd.sum(axis = 1)    \n",
    "sales_pd_with_campains.describe()"
   ]
  },
  {
   "cell_type": "code",
   "execution_count": 38,
   "id": "dc1e453c",
   "metadata": {},
   "outputs": [
    {
     "data": {
      "text/plain": [
       "<AxesSubplot:label='5131a187-fd01-458d-9f44-6fe88170c1e4', ylabel='Spent, $ per day'>"
      ]
     },
     "execution_count": 38,
     "metadata": {},
     "output_type": "execute_result"
    },
    {
     "data": {
      "image/png": "[encoded data removed]",
      "text/plain": [
       "<Figure size 864x576 with 3 Axes>"
      ]
     },
     "metadata": {},
     "output_type": "display_data"
    }
   ],
   "source": [
    "ax1 = sn.set_style(style=None, rc=None )\n",
    "sn.set_theme(style = \"whitegrid\")\n",
    "fig, ax1 = plt.subplots(figsize=(12,8))\n",
    "ax1.set(ylim=(-0.5, 6.5))\n",
    "sn.lineplot(data = sales_pd_with_campains.drop(columns = \"Ordered\")\n",
    "            , dashes=False, palette=\"viridis\", ax=ax1, linewidth= 7)\n",
    "plt.legend(bbox_to_anchor=(1.05, 1), loc=2, borderaxespad=0. , framealpha = 1)\n",
    "ax1.set(xlabel='days')\n",
    "ax1.set(yticklabels=[])\n",
    "\n",
    "ax2 = ax1.twinx()\n",
    "ax2.set(ylim=(-.5, 6.5))\n",
    "sn.lineplot(data = sales_pd_with_campains[\"Ordered\"], ax=ax2, color='purple', linewidth = 1)\n",
    "ax2.yaxis.set_label_position(\"left\")\n",
    "ax2.yaxis.set_ticks_position(\"left\")\n",
    "\n",
    "ax3 = ax1.twinx()\n",
    "ax3.set(ylim=(-.5, 6.5))\n",
    "sn.lineplot(data = spend_pd['Spent, $ per day'], ax=ax3, color='black', linewidth = 4)"
   ]
  },
  {
   "cell_type": "markdown",
   "id": "eb3758eb",
   "metadata": {},
   "source": [
    "##  last tree month - how much spent by day\n",
    "\n",
    "Oct31 2020 - last_date"
   ]
  },
  {
   "cell_type": "code",
   "execution_count": 17,
   "id": "850613ab",
   "metadata": {},
   "outputs": [],
   "source": [
    "spons_time_file = 'Sponsored Products Performance Over Time reportOct31Jan29.xlsx'"
   ]
  },
  {
   "cell_type": "code",
   "execution_count": 18,
   "id": "4e35e210",
   "metadata": {},
   "outputs": [
    {
     "name": "stderr",
     "output_type": "stream",
     "text": [
      "/home/vera/anaconda3/lib/python3.8/site-packages/openpyxl/styles/stylesheet.py:221: UserWarning: Workbook contains no default style, apply openpyxl's default\n",
      "  warn(\"Workbook contains no default style, apply openpyxl's default\")\n"
     ]
    },
    {
     "data": {
      "text/html": [
       "<div>\n",
       "<style scoped>\n",
       "    .dataframe tbody tr th:only-of-type {\n",
       "        vertical-align: middle;\n",
       "    }\n",
       "\n",
       "    .dataframe tbody tr th {\n",
       "        vertical-align: top;\n",
       "    }\n",
       "\n",
       "    .dataframe thead th {\n",
       "        text-align: right;\n",
       "    }\n",
       "</style>\n",
       "<table border=\"1\" class=\"dataframe\">\n",
       "  <thead>\n",
       "    <tr style=\"text-align: right;\">\n",
       "      <th></th>\n",
       "      <th>Clicks</th>\n",
       "      <th>Cost Per Click (CPC)</th>\n",
       "      <th>Spend</th>\n",
       "    </tr>\n",
       "    <tr>\n",
       "      <th>Date</th>\n",
       "      <th></th>\n",
       "      <th></th>\n",
       "      <th></th>\n",
       "    </tr>\n",
       "  </thead>\n",
       "  <tbody>\n",
       "    <tr>\n",
       "      <th>2021-11-22</th>\n",
       "      <td>1</td>\n",
       "      <td>1.010</td>\n",
       "      <td>1.01</td>\n",
       "    </tr>\n",
       "    <tr>\n",
       "      <th>2021-11-23</th>\n",
       "      <td>2</td>\n",
       "      <td>2.705</td>\n",
       "      <td>5.41</td>\n",
       "    </tr>\n",
       "    <tr>\n",
       "      <th>2021-11-24</th>\n",
       "      <td>4</td>\n",
       "      <td>1.405</td>\n",
       "      <td>5.62</td>\n",
       "    </tr>\n",
       "    <tr>\n",
       "      <th>2021-11-25</th>\n",
       "      <td>2</td>\n",
       "      <td>2.955</td>\n",
       "      <td>5.91</td>\n",
       "    </tr>\n",
       "    <tr>\n",
       "      <th>2021-11-26</th>\n",
       "      <td>2</td>\n",
       "      <td>0.600</td>\n",
       "      <td>1.20</td>\n",
       "    </tr>\n",
       "  </tbody>\n",
       "</table>\n",
       "</div>"
      ],
      "text/plain": [
       "            Clicks  Cost Per Click (CPC)  Spend\n",
       "Date                                           \n",
       "2021-11-22       1                 1.010   1.01\n",
       "2021-11-23       2                 2.705   5.41\n",
       "2021-11-24       4                 1.405   5.62\n",
       "2021-11-25       2                 2.955   5.91\n",
       "2021-11-26       2                 0.600   1.20"
      ]
     },
     "execution_count": 18,
     "metadata": {},
     "output_type": "execute_result"
    }
   ],
   "source": [
    "spons_time = pd.read_excel(spons_time_file).set_index('Date')\n",
    "spons_time.head()"
   ]
  },
  {
   "cell_type": "code",
   "execution_count": 19,
   "id": "365cdfff",
   "metadata": {},
   "outputs": [],
   "source": [
    "from_date = pd.Timestamp('2021-11-22')\n",
    "to_date = last_date"
   ]
  },
  {
   "cell_type": "code",
   "execution_count": 20,
   "id": "a3386b29",
   "metadata": {},
   "outputs": [
    {
     "data": {
      "text/html": [
       "<div>\n",
       "<style scoped>\n",
       "    .dataframe tbody tr th:only-of-type {\n",
       "        vertical-align: middle;\n",
       "    }\n",
       "\n",
       "    .dataframe tbody tr th {\n",
       "        vertical-align: top;\n",
       "    }\n",
       "\n",
       "    .dataframe thead th {\n",
       "        text-align: right;\n",
       "    }\n",
       "</style>\n",
       "<table border=\"1\" class=\"dataframe\">\n",
       "  <thead>\n",
       "    <tr style=\"text-align: right;\">\n",
       "      <th></th>\n",
       "      <th>Ordered</th>\n",
       "      <th>Sessions</th>\n",
       "      <th>Clicks</th>\n",
       "      <th>Cost Per Click (CPC)</th>\n",
       "      <th>Spend</th>\n",
       "    </tr>\n",
       "    <tr>\n",
       "      <th>Date</th>\n",
       "      <th></th>\n",
       "      <th></th>\n",
       "      <th></th>\n",
       "      <th></th>\n",
       "      <th></th>\n",
       "    </tr>\n",
       "  </thead>\n",
       "  <tbody>\n",
       "    <tr>\n",
       "      <th>2021-11-22</th>\n",
       "      <td>1</td>\n",
       "      <td>22</td>\n",
       "      <td>1.0</td>\n",
       "      <td>1.010</td>\n",
       "      <td>1.01</td>\n",
       "    </tr>\n",
       "    <tr>\n",
       "      <th>2021-11-23</th>\n",
       "      <td>0</td>\n",
       "      <td>9</td>\n",
       "      <td>2.0</td>\n",
       "      <td>2.705</td>\n",
       "      <td>5.41</td>\n",
       "    </tr>\n",
       "    <tr>\n",
       "      <th>2021-11-24</th>\n",
       "      <td>2</td>\n",
       "      <td>7</td>\n",
       "      <td>4.0</td>\n",
       "      <td>1.405</td>\n",
       "      <td>5.62</td>\n",
       "    </tr>\n",
       "    <tr>\n",
       "      <th>2021-11-25</th>\n",
       "      <td>4</td>\n",
       "      <td>8</td>\n",
       "      <td>2.0</td>\n",
       "      <td>2.955</td>\n",
       "      <td>5.91</td>\n",
       "    </tr>\n",
       "    <tr>\n",
       "      <th>2021-11-26</th>\n",
       "      <td>0</td>\n",
       "      <td>10</td>\n",
       "      <td>2.0</td>\n",
       "      <td>0.600</td>\n",
       "      <td>1.20</td>\n",
       "    </tr>\n",
       "    <tr>\n",
       "      <th>...</th>\n",
       "      <td>...</td>\n",
       "      <td>...</td>\n",
       "      <td>...</td>\n",
       "      <td>...</td>\n",
       "      <td>...</td>\n",
       "    </tr>\n",
       "    <tr>\n",
       "      <th>2022-02-13</th>\n",
       "      <td>0</td>\n",
       "      <td>7</td>\n",
       "      <td>0.0</td>\n",
       "      <td>0.000</td>\n",
       "      <td>0.00</td>\n",
       "    </tr>\n",
       "    <tr>\n",
       "      <th>2022-02-14</th>\n",
       "      <td>0</td>\n",
       "      <td>2</td>\n",
       "      <td>0.0</td>\n",
       "      <td>0.000</td>\n",
       "      <td>0.00</td>\n",
       "    </tr>\n",
       "    <tr>\n",
       "      <th>2022-02-15</th>\n",
       "      <td>0</td>\n",
       "      <td>3</td>\n",
       "      <td>0.0</td>\n",
       "      <td>0.000</td>\n",
       "      <td>0.00</td>\n",
       "    </tr>\n",
       "    <tr>\n",
       "      <th>2022-02-16</th>\n",
       "      <td>0</td>\n",
       "      <td>9</td>\n",
       "      <td>0.0</td>\n",
       "      <td>0.000</td>\n",
       "      <td>0.00</td>\n",
       "    </tr>\n",
       "    <tr>\n",
       "      <th>2022-02-17</th>\n",
       "      <td>1</td>\n",
       "      <td>11</td>\n",
       "      <td>0.0</td>\n",
       "      <td>0.000</td>\n",
       "      <td>0.00</td>\n",
       "    </tr>\n",
       "  </tbody>\n",
       "</table>\n",
       "<p>88 rows × 5 columns</p>\n",
       "</div>"
      ],
      "text/plain": [
       "            Ordered  Sessions  Clicks  Cost Per Click (CPC)  Spend\n",
       "Date                                                              \n",
       "2021-11-22        1        22     1.0                 1.010   1.01\n",
       "2021-11-23        0         9     2.0                 2.705   5.41\n",
       "2021-11-24        2         7     4.0                 1.405   5.62\n",
       "2021-11-25        4         8     2.0                 2.955   5.91\n",
       "2021-11-26        0        10     2.0                 0.600   1.20\n",
       "...             ...       ...     ...                   ...    ...\n",
       "2022-02-13        0         7     0.0                 0.000   0.00\n",
       "2022-02-14        0         2     0.0                 0.000   0.00\n",
       "2022-02-15        0         3     0.0                 0.000   0.00\n",
       "2022-02-16        0         9     0.0                 0.000   0.00\n",
       "2022-02-17        1        11     0.0                 0.000   0.00\n",
       "\n",
       "[88 rows x 5 columns]"
      ]
     },
     "execution_count": 20,
     "metadata": {},
     "output_type": "execute_result"
    }
   ],
   "source": [
    "sales_pd_last3m = sales_pd.loc[sales_pd['Date']>= from_date].set_index('Date') #.drop('index')\n",
    "sales_pd_last3m = pd.concat([sales_pd_last3m, spons_time], axis= 1).replace(np.nan, 0)\n",
    "sales_pd_last3m"
   ]
  },
  {
   "cell_type": "code",
   "execution_count": 35,
   "id": "084df75f",
   "metadata": {},
   "outputs": [
    {
     "data": {
      "text/plain": [
       "<matplotlib.legend.Legend at 0x7fe99bfbcb20>"
      ]
     },
     "execution_count": 35,
     "metadata": {},
     "output_type": "execute_result"
    },
    {
     "data": {
      "image/png": "[encoded data removed]",
      "text/plain": [
       "<Figure size 864x576 with 3 Axes>"
      ]
     },
     "metadata": {},
     "output_type": "display_data"
    }
   ],
   "source": [
    "#ax1 = sn.set_style(style=None, rc=None )\n",
    "sn.set_theme(style = \"ticks\")\n",
    "fig, ax1 = plt.subplots(figsize=(12,8))\n",
    "sn.lineplot(data = sales_pd_last3m['Ordered'], dashes=False, palette=\"viridis\", ax=ax1, linewidth= 2, label = 'Orders')\n",
    "ax1.set(xlabel='days')\n",
    "#ax1.set_title(\"Orders, Sessions and Spent on Ads for last three month\", fontsize = 20)\n",
    "\n",
    "ax2 = ax1.twinx()\n",
    "sn.scatterplot(data = spons_time[\"Spend\"], ax=ax2, color='red', label = 'Spend')\n",
    "ax2.yaxis.set_visible(False)\n",
    "\n",
    "ax3 = ax2.twinx()\n",
    "sn.scatterplot(data = sales_pd_last3m[\"Sessions\"], ax = ax3, color='black', label='Sessions')\n",
    "\n",
    "lines1, labels1 = ax1.get_legend_handles_labels()\n",
    "lines2, labels2 = ax2.get_legend_handles_labels()\n",
    "lines3, labels3 = ax3.get_legend_handles_labels()\n",
    "ax3.legend(lines1 + lines2 + lines3, labels1 + labels2 + labels3, loc=0 ,framealpha = 1)"
   ]
  },
  {
   "cell_type": "code",
   "execution_count": null,
   "id": "196f63c3",
   "metadata": {},
   "outputs": [],
   "source": []
  },
  {
   "cell_type": "markdown",
   "id": "3ea92668",
   "metadata": {},
   "source": [
    "# What's the destribution of sales by the weekdays?"
   ]
  },
  {
   "cell_type": "code",
   "execution_count": 22,
   "id": "ab4ded52",
   "metadata": {},
   "outputs": [
    {
     "data": {
      "text/plain": [
       "1"
      ]
     },
     "execution_count": 22,
     "metadata": {},
     "output_type": "execute_result"
    }
   ],
   "source": [
    "sales_pd.loc[0,'Date'].weekday()  ##  0 - Mon, 6 is Sunday"
   ]
  },
  {
   "cell_type": "code",
   "execution_count": 23,
   "id": "b53fe7c0",
   "metadata": {},
   "outputs": [],
   "source": [
    "weekdays_list = ['Monday', 'Tuesday', 'Wednesday', 'Thursday', 'Friday', 'Saturday', 'Sunday']"
   ]
  },
  {
   "cell_type": "code",
   "execution_count": 24,
   "id": "e0ab41b2",
   "metadata": {},
   "outputs": [
    {
     "data": {
      "text/html": [
       "<div>\n",
       "<style scoped>\n",
       "    .dataframe tbody tr th:only-of-type {\n",
       "        vertical-align: middle;\n",
       "    }\n",
       "\n",
       "    .dataframe tbody tr th {\n",
       "        vertical-align: top;\n",
       "    }\n",
       "\n",
       "    .dataframe thead th {\n",
       "        text-align: right;\n",
       "    }\n",
       "</style>\n",
       "<table border=\"1\" class=\"dataframe\">\n",
       "  <thead>\n",
       "    <tr style=\"text-align: right;\">\n",
       "      <th></th>\n",
       "      <th>Date</th>\n",
       "      <th>Ordered</th>\n",
       "      <th>Sessions</th>\n",
       "      <th>Weekday N</th>\n",
       "      <th>Weekday Str</th>\n",
       "    </tr>\n",
       "  </thead>\n",
       "  <tbody>\n",
       "    <tr>\n",
       "      <th>0</th>\n",
       "      <td>2021-02-02</td>\n",
       "      <td>0</td>\n",
       "      <td>0</td>\n",
       "      <td>1</td>\n",
       "      <td>Tuesday</td>\n",
       "    </tr>\n",
       "    <tr>\n",
       "      <th>1</th>\n",
       "      <td>2021-02-03</td>\n",
       "      <td>0</td>\n",
       "      <td>0</td>\n",
       "      <td>2</td>\n",
       "      <td>Wednesday</td>\n",
       "    </tr>\n",
       "    <tr>\n",
       "      <th>2</th>\n",
       "      <td>2021-02-04</td>\n",
       "      <td>0</td>\n",
       "      <td>0</td>\n",
       "      <td>3</td>\n",
       "      <td>Thursday</td>\n",
       "    </tr>\n",
       "    <tr>\n",
       "      <th>3</th>\n",
       "      <td>2021-02-05</td>\n",
       "      <td>0</td>\n",
       "      <td>0</td>\n",
       "      <td>4</td>\n",
       "      <td>Friday</td>\n",
       "    </tr>\n",
       "    <tr>\n",
       "      <th>4</th>\n",
       "      <td>2021-02-06</td>\n",
       "      <td>0</td>\n",
       "      <td>3</td>\n",
       "      <td>5</td>\n",
       "      <td>Saturday</td>\n",
       "    </tr>\n",
       "    <tr>\n",
       "      <th>...</th>\n",
       "      <td>...</td>\n",
       "      <td>...</td>\n",
       "      <td>...</td>\n",
       "      <td>...</td>\n",
       "      <td>...</td>\n",
       "    </tr>\n",
       "    <tr>\n",
       "      <th>376</th>\n",
       "      <td>2022-02-13</td>\n",
       "      <td>0</td>\n",
       "      <td>7</td>\n",
       "      <td>6</td>\n",
       "      <td>Sunday</td>\n",
       "    </tr>\n",
       "    <tr>\n",
       "      <th>377</th>\n",
       "      <td>2022-02-14</td>\n",
       "      <td>0</td>\n",
       "      <td>2</td>\n",
       "      <td>0</td>\n",
       "      <td>Monday</td>\n",
       "    </tr>\n",
       "    <tr>\n",
       "      <th>378</th>\n",
       "      <td>2022-02-15</td>\n",
       "      <td>0</td>\n",
       "      <td>3</td>\n",
       "      <td>1</td>\n",
       "      <td>Tuesday</td>\n",
       "    </tr>\n",
       "    <tr>\n",
       "      <th>379</th>\n",
       "      <td>2022-02-16</td>\n",
       "      <td>0</td>\n",
       "      <td>9</td>\n",
       "      <td>2</td>\n",
       "      <td>Wednesday</td>\n",
       "    </tr>\n",
       "    <tr>\n",
       "      <th>380</th>\n",
       "      <td>2022-02-17</td>\n",
       "      <td>1</td>\n",
       "      <td>11</td>\n",
       "      <td>3</td>\n",
       "      <td>Thursday</td>\n",
       "    </tr>\n",
       "  </tbody>\n",
       "</table>\n",
       "<p>381 rows × 5 columns</p>\n",
       "</div>"
      ],
      "text/plain": [
       "          Date  Ordered  Sessions  Weekday N Weekday Str\n",
       "0   2021-02-02        0         0          1     Tuesday\n",
       "1   2021-02-03        0         0          2   Wednesday\n",
       "2   2021-02-04        0         0          3    Thursday\n",
       "3   2021-02-05        0         0          4      Friday\n",
       "4   2021-02-06        0         3          5    Saturday\n",
       "..         ...      ...       ...        ...         ...\n",
       "376 2022-02-13        0         7          6      Sunday\n",
       "377 2022-02-14        0         2          0      Monday\n",
       "378 2022-02-15        0         3          1     Tuesday\n",
       "379 2022-02-16        0         9          2   Wednesday\n",
       "380 2022-02-17        1        11          3    Thursday\n",
       "\n",
       "[381 rows x 5 columns]"
      ]
     },
     "execution_count": 24,
     "metadata": {},
     "output_type": "execute_result"
    }
   ],
   "source": [
    "sales_pd['Weekday N']=sales_pd['Date'].apply(lambda x: x.weekday())\n",
    "sales_pd['Weekday Str']=sales_pd['Date'].apply(lambda x: weekdays_list [x.weekday()])\n",
    "sales_pd"
   ]
  },
  {
   "cell_type": "code",
   "execution_count": 25,
   "id": "b752766e",
   "metadata": {},
   "outputs": [
    {
     "data": {
      "text/html": [
       "<div>\n",
       "<style scoped>\n",
       "    .dataframe tbody tr th:only-of-type {\n",
       "        vertical-align: middle;\n",
       "    }\n",
       "\n",
       "    .dataframe tbody tr th {\n",
       "        vertical-align: top;\n",
       "    }\n",
       "\n",
       "    .dataframe thead th {\n",
       "        text-align: right;\n",
       "    }\n",
       "</style>\n",
       "<table border=\"1\" class=\"dataframe\">\n",
       "  <thead>\n",
       "    <tr style=\"text-align: right;\">\n",
       "      <th></th>\n",
       "      <th>Ordered</th>\n",
       "      <th>Sessions</th>\n",
       "    </tr>\n",
       "    <tr>\n",
       "      <th>Weekday N</th>\n",
       "      <th></th>\n",
       "      <th></th>\n",
       "    </tr>\n",
       "  </thead>\n",
       "  <tbody>\n",
       "    <tr>\n",
       "      <th>0</th>\n",
       "      <td>25</td>\n",
       "      <td>480</td>\n",
       "    </tr>\n",
       "    <tr>\n",
       "      <th>1</th>\n",
       "      <td>23</td>\n",
       "      <td>519</td>\n",
       "    </tr>\n",
       "    <tr>\n",
       "      <th>2</th>\n",
       "      <td>28</td>\n",
       "      <td>532</td>\n",
       "    </tr>\n",
       "    <tr>\n",
       "      <th>3</th>\n",
       "      <td>36</td>\n",
       "      <td>582</td>\n",
       "    </tr>\n",
       "    <tr>\n",
       "      <th>4</th>\n",
       "      <td>26</td>\n",
       "      <td>557</td>\n",
       "    </tr>\n",
       "    <tr>\n",
       "      <th>5</th>\n",
       "      <td>22</td>\n",
       "      <td>507</td>\n",
       "    </tr>\n",
       "    <tr>\n",
       "      <th>6</th>\n",
       "      <td>25</td>\n",
       "      <td>433</td>\n",
       "    </tr>\n",
       "  </tbody>\n",
       "</table>\n",
       "</div>"
      ],
      "text/plain": [
       "           Ordered  Sessions\n",
       "Weekday N                   \n",
       "0               25       480\n",
       "1               23       519\n",
       "2               28       532\n",
       "3               36       582\n",
       "4               26       557\n",
       "5               22       507\n",
       "6               25       433"
      ]
     },
     "execution_count": 25,
     "metadata": {},
     "output_type": "execute_result"
    }
   ],
   "source": [
    "sales_by_wd = sales_pd.groupby(by = 'Weekday N').sum()\n",
    "sales_by_wd"
   ]
  },
  {
   "cell_type": "code",
   "execution_count": 40,
   "id": "ee98b2e3",
   "metadata": {},
   "outputs": [
    {
     "data": {
      "text/plain": [
       "[Text(0.5, 0, 'WEEKDAY')]"
      ]
     },
     "execution_count": 40,
     "metadata": {},
     "output_type": "execute_result"
    },
    {
     "data": {
      "image/png": "[encoded data removed]",
      "text/plain": [
       "<Figure size 864x576 with 1 Axes>"
      ]
     },
     "metadata": {},
     "output_type": "display_data"
    }
   ],
   "source": [
    "plt.subplots(figsize=(12,8))\n",
    "sn.set_theme(style=\"darkgrid\")\n",
    "ax = sn.barplot(data = sales_by_wd, y = 'Ordered', x = sales_by_wd.index, palette = 'magma')\n",
    "ax.set(xticklabels = weekdays_list)\n",
    "ax.set(xlabel = 'WEEKDAY')"
   ]
  },
  {
   "cell_type": "markdown",
   "id": "39c03ad3",
   "metadata": {},
   "source": [
    "## Thursday is a shopping day"
   ]
  },
  {
   "cell_type": "code",
   "execution_count": null,
   "id": "202ab287",
   "metadata": {},
   "outputs": [],
   "source": []
  }
 ],
 "metadata": {
  "kernelspec": {
   "display_name": "Python 3",
   "language": "python",
   "name": "python3"
  },
  "language_info": {
   "codemirror_mode": {
    "name": "ipython",
    "version": 3
   },
   "file_extension": ".py",
   "mimetype": "text/x-python",
   "name": "python",
   "nbconvert_exporter": "python",
   "pygments_lexer": "ipython3",
   "version": "3.8.8"
  }
 },
 "nbformat": 4,
 "nbformat_minor": 5
}
